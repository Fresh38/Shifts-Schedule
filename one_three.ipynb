{
 "cells": [
  {
   "cell_type": "code",
   "execution_count": 1,
   "metadata": {},
   "outputs": [],
   "source": [
    "import pandas as pd\n",
    "from pulp import *"
   ]
  },
  {
   "cell_type": "code",
   "execution_count": 2,
   "metadata": {},
   "outputs": [
    {
     "data": {
      "text/html": [
       "<div>\n",
       "<style scoped>\n",
       "    .dataframe tbody tr th:only-of-type {\n",
       "        vertical-align: middle;\n",
       "    }\n",
       "\n",
       "    .dataframe tbody tr th {\n",
       "        vertical-align: top;\n",
       "    }\n",
       "\n",
       "    .dataframe thead th {\n",
       "        text-align: right;\n",
       "    }\n",
       "</style>\n",
       "<table border=\"1\" class=\"dataframe\">\n",
       "  <thead>\n",
       "    <tr style=\"text-align: right;\">\n",
       "      <th></th>\n",
       "      <th>Time Windows</th>\n",
       "      <th>Shift 1</th>\n",
       "      <th>Shift 2</th>\n",
       "      <th>Avg_Customer_Number</th>\n",
       "    </tr>\n",
       "  </thead>\n",
       "  <tbody>\n",
       "    <tr>\n",
       "      <th>0</th>\n",
       "      <td>9:00-10:00</td>\n",
       "      <td>X</td>\n",
       "      <td>NaN</td>\n",
       "      <td>28.0</td>\n",
       "    </tr>\n",
       "    <tr>\n",
       "      <th>1</th>\n",
       "      <td>10:00 – 11:00</td>\n",
       "      <td>X</td>\n",
       "      <td>NaN</td>\n",
       "      <td>35.0</td>\n",
       "    </tr>\n",
       "    <tr>\n",
       "      <th>2</th>\n",
       "      <td>11:00 – 12:00</td>\n",
       "      <td>X</td>\n",
       "      <td>NaN</td>\n",
       "      <td>21.0</td>\n",
       "    </tr>\n",
       "    <tr>\n",
       "      <th>3</th>\n",
       "      <td>12:00 – 13:00</td>\n",
       "      <td>X</td>\n",
       "      <td>NaN</td>\n",
       "      <td>46.0</td>\n",
       "    </tr>\n",
       "    <tr>\n",
       "      <th>4</th>\n",
       "      <td>13:00 – 14:00</td>\n",
       "      <td>NaN</td>\n",
       "      <td>X</td>\n",
       "      <td>32.0</td>\n",
       "    </tr>\n",
       "  </tbody>\n",
       "</table>\n",
       "</div>"
      ],
      "text/plain": [
       "    Time Windows Shift 1 Shift 2  Avg_Customer_Number\n",
       "0     9:00-10:00       X     NaN                 28.0\n",
       "1  10:00 – 11:00       X     NaN                 35.0\n",
       "2  11:00 – 12:00       X     NaN                 21.0\n",
       "3  12:00 – 13:00       X     NaN                 46.0\n",
       "4  13:00 – 14:00     NaN       X                 32.0"
      ]
     },
     "execution_count": 2,
     "metadata": {},
     "output_type": "execute_result"
    }
   ],
   "source": [
    "df = pd.read_csv('fau_bank_shifts.csv')\n",
    "df.head()"
   ]
  },
  {
   "cell_type": "code",
   "execution_count": 3,
   "metadata": {},
   "outputs": [
    {
     "data": {
      "text/plain": [
       "1"
      ]
     },
     "execution_count": 3,
     "metadata": {},
     "output_type": "execute_result"
    }
   ],
   "source": [
    "prob = LpProblem(\"FAU_Bank_Tellers\", LpMinimize)\n",
    "# Average number of customers per hour for each shift\n",
    "customer_numbers = [28, 35, 21, 46, 32, 14, 24, 32]\n",
    "\n",
    "# Decision variables\n",
    "tellers = LpVariable.dicts(\"Tellers\", range(len(customer_numbers)), lowBound=0, cat='Integer')\n",
    "# Objective function\n",
    "prob += lpSum(tellers)\n",
    "# Constraints\n",
    "for i, customers in enumerate(customer_numbers):\n",
    "    prob += tellers[i] >= customers / 8\n",
    "prob.solve()"
   ]
  },
  {
   "cell_type": "code",
   "execution_count": 4,
   "metadata": {},
   "outputs": [
    {
     "name": "stdout",
     "output_type": "stream",
     "text": [
      "Shift 1: 4.0 tellers needed\n",
      "Shift 2: 5.0 tellers needed\n",
      "Shift 3: 3.0 tellers needed\n",
      "Shift 4: 6.0 tellers needed\n",
      "Shift 5: 4.0 tellers needed\n",
      "Shift 6: 2.0 tellers needed\n",
      "Shift 7: 3.0 tellers needed\n",
      "Shift 8: 4.0 tellers needed\n"
     ]
    }
   ],
   "source": [
    "# Output results\n",
    "for i in range(len(customer_numbers)):\n",
    "    print(f\"Shift {i+1}: {tellers[i].varValue} tellers needed\")\n"
   ]
  },
  {
   "cell_type": "code",
   "execution_count": null,
   "metadata": {},
   "outputs": [],
   "source": []
  }
 ],
 "metadata": {
  "kernelspec": {
   "display_name": "Python 3",
   "language": "python",
   "name": "python3"
  },
  "language_info": {
   "codemirror_mode": {
    "name": "ipython",
    "version": 3
   },
   "file_extension": ".py",
   "mimetype": "text/x-python",
   "name": "python",
   "nbconvert_exporter": "python",
   "pygments_lexer": "ipython3",
   "version": "3.8.5"
  }
 },
 "nbformat": 4,
 "nbformat_minor": 4
}
